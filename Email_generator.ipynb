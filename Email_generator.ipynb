{
 "cells": [
  {
   "cell_type": "code",
   "execution_count": 19,
   "id": "e5268a89",
   "metadata": {},
   "outputs": [],
   "source": [
    "from langchain_groq import ChatGroq"
   ]
  },
  {
   "cell_type": "code",
   "execution_count": 24,
   "id": "06335f1c",
   "metadata": {},
   "outputs": [
    {
     "name": "stdout",
     "output_type": "stream",
     "text": [
      "The question of whether God exists is a complex and debated topic among philosophers, theologians, scientists, and many others. There is no definitive answer, as it ultimately depends on one's personal beliefs, cultural background, and worldview. Here's a balanced overview of the main arguments:\n",
      "\n",
      "**Arguments for the existence of God:**\n",
      "\n",
      "1. **The Cosmological Argument**: This argument posits that everything that exists has a cause, and since the universe exists, it must have a cause, which is God.\n",
      "2. **The Teleological Argument**: This argument suggests that the complexity and order in the universe imply the existence of a designer or creator, which is God.\n",
      "3. **The Ontological Argument**: This argument, proposed by St. Anselm, states that God's existence can be deduced from the concept of God as a perfect being.\n",
      "4. **The Moral Argument**: This argument asserts that the existence of objective moral values and duties implies the existence of a moral lawgiver, which is God.\n",
      "5. **Personal experiences and faith**: Many people claim to have had personal experiences or feelings that they attribute to God's presence or intervention in their lives.\n",
      "\n",
      "**Arguments against the existence of God:**\n",
      "\n",
      "1. **The Problem of Evil**: This argument questions why a benevolent God would allow evil and suffering to exist in the world.\n",
      "2. **The Argument from Non-Belief**: This argument suggests that if God existed, He would ensure that everyone believed in Him, but since there are many non-believers, God must not exist.\n",
      "3. **The Argument from Naturalism**: This argument posits that natural laws and processes can explain the complexity and order in the universe, making God unnecessary.\n",
      "4. **The Argument from Inconsistency**: This argument highlights the contradictions and inconsistencies within religious texts and traditions, which can undermine the idea of a perfect, all-knowing God.\n",
      "5. **The Lack of Empirical Evidence**: Many argue that there is no empirical evidence to support the existence of God, and that claims of divine intervention are often anecdotal and unverifiable.\n",
      "\n",
      "**Neutral perspectives:**\n",
      "\n",
      "1. **Agnosticism**: This perspective holds that the existence or non-existence of God is unknown or unknowable.\n",
      "2. **Deism**: This perspective posits that a creator or higher power may exist, but does not intervene in human affairs.\n",
      "3. **Pantheism**: This perspective sees God as an all-encompassing, impersonal force that is identical with the universe.\n",
      "\n",
      "Ultimately, the question of whether God exists is a deeply personal and subjective one. While there are various arguments for and against the existence of God, there is no definitive proof or disproof. Many people find meaning and purpose in their lives through their faith, while others do not.\n"
     ]
    }
   ],
   "source": [
    "\n",
    "llm = ChatGroq(\n",
    "    model=\"llama-3.1-70b-versatile\",\n",
    "    temperature=0,\n",
    "    groq_api_key=\"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\"\n",
    "     \n",
    ")\n",
    "response=llm.invoke(\"does god exist\")\n",
    "print(response.content)"
   ]
  },
  {
   "cell_type": "code",
   "execution_count": null,
   "id": "7e302fcc",
   "metadata": {},
   "outputs": [],
   "source": [
    "%pip install -qU langchain_community beautifulsoup4"
   ]
  },
  {
   "cell_type": "code",
   "execution_count": 31,
   "id": "19383353",
   "metadata": {},
   "outputs": [],
   "source": [
    "from langchain_community.document_loaders import WebBaseLoader\n",
    "\n",
    "loader = WebBaseLoader(\"https://jobs.nike.com/job/R-38866?from=job%20search%20funnel\")\n",
    "page_data=loader.load().pop().page_content\n"
   ]
  },
  {
   "cell_type": "code",
   "execution_count": 32,
   "id": "7199d694",
   "metadata": {},
   "outputs": [
    {
     "name": "stdout",
     "output_type": "stream",
     "text": [
      "Apply for Operations Coach - Nike, Uni Hill\n",
      "\n",
      "Search JobsSkip navigationSearch JobsNIKE, INC. JOBSContract JobsJoin The Talent CommunityLife @ NikeOverviewBenefitsBrandsOverviewJordanConverseTeamsOverviewAdministrative SupportAdvanced InnovationAir Manufacturing InnovationAviationCommunicationsCustomer ServiceDesignDigitalFacilitiesFinance & AccountingGovernment & Public AffairsHuman ResourcesInsights & AnalyticsLegalManufacturing & EngineeringMarketingMerchandisingPlanningPrivacyProcurementProduct Creation, Development & ManagementRetail CorporateRetail StoresSalesSocial & Community ImpactSports MarketingStrategic PlanningSupply Chain, Distribution & LogisticsSustainabilityTechnologyLocationsOverviewNike WHQNike New York HQEHQ: Hilversum, The NetherlandsELC: Laakdal, BelgiumGreater China HQDiversity, Equity & InclusionOverviewMilitary InclusionDisability InclusionIndigenous InclusionInternshipsRetail StoresOperations Coach - Nike, Uni HillBundoora, VictoriaBecome a Part of the NIKE, Inc. TeamNIKE, Inc. does more than outfit the world’s best athletes. It is a place to explore potential, obliterate boundaries and push out the edges of what can be. The company looks for people who can grow, think, dream and create. Its culture thrives by embracing diversity and rewarding imagination. The brand seeks achievers, leaders and visionaries. At NIKE, Inc. it’s about each person bringing skills and passion to a challenging and constantly evolving game.To work in retail is to be the face of NIKE, Inc. With a relentless focus on product knowledge and customer service, Nike Retail teams give valuable experiences to consumers every day. From Shanghai to San Francisco, every store has a unique perspective and hosts an inspiring community of sport and style devotees. A career in Nike Retail demands creativity and ambition and offers the opportunity to grow with some of the best athletes, teammates and retail partners in the industry.WHAT’S IN IT FOR YOU?At Nike we believe in human potential. We will invest in you as a Leader and focus on your developmentCompetitive salary and generous product discountFull uniform provided twice per yearAccess to special release productBirthday leaveWellbeing program and toolsWHO ARE WE LOOKING FOR?The future of Nike has never looked better.A great opportunity has become available to join the Nike Retail team in the role of Operations Coach at the Uni Hill store in Bundoora. The mission of the Operations Coach is to assist in the implementation of programs, process and initiatives to drive business results and premium consumer service.WHAT WILL YOU WORK ON?This is a great steppingstone for someone looking for a career in retail leadership.  Reporting into the Head Coach, this role will see you perform non-selling duties that support the store administration and accounting functions.This fast-paced environment will see you involved in:Drive a service culture and create an in-store culture that brings the Nike brand to lifeEnsure payroll compliance, create rosters and zone charts, and adhere to cash management standardsAssist the store to achieve financial objectivesLead, Coach, Drive and Inspire the Operations teamOperational excellence: including Facilities Management, HR and Loss Prevention programs, and managing break room communicationsWHAT YOU BRING:A passion for the NIKE brandGeneral Retail experienceTeam leadership experienceOutstanding communication skillsSolid organisation skillsProficiency in MS Office products and Retail business systemsThe successful candidate will work a rotating roster and must be available to work weekends, evenings and holidays as needed.NIKE, Inc. is a growth company that looks for team members to grow with it. Nike offers a generous total rewards package, casual work environment, a diverse and inclusive culture, and an electric atmosphere for professional development. No matter the location, or the role, every Nike employee shares one galvanizing mission: To bring inspiration and innovation to every athlete* in the world.NIKE, Inc. is committed to employing a diverse workforce. Qualified applicants will receive consideration without regard to race, color, religion, sex, national origin, age, sexual orientation, gender identity, gender expression, veteran status, or disability.How We HireAt NIKE, Inc. we promise to provide a premium, inclusive, compelling and authentic candidate experience. Delivering on this promise means we allow you to be at your best — and to do that, you need to understand how the hiring process works. Transparency is key.\r\n",
      "\r\n",
      "* This overview explains our hiring process for corporate roles. Note there may be different hiring steps involved for non-corporate roles.Start nowBenefitsWhether it’s transportation or financial health, we continually invest in our employees to help them achieve greatness — inside and outside of work. All who work here should be able to realize their full potential.Employee Assistance ProgramHolidaysMedical PlanPaid Time Off (PTO)Product DiscountsLearn moreGIFT CARDSPROMOTIONSFIND A STORESIGN UP FOR EMAILBECOME A MEMBERNIKE JOURNALSEND US FEEDBACKGET HELPGET HELPOrder StatusShipping and DeliveryReturnsPayment OptionsGift Cards BalanceContact UsABOUT NIKEABOUT NIKENewsCareersInvestorsPurposeSustainabilityUnited States© 2024 Nike, Inc. All Rights ReservedGuidesNike AdaptNike Air MaxNike FlyleatherNike ReactSpace HippieNike AirNike FlyEaseNike Free Nike VaporflyNike Air Force 1 Nike FlyknitNike JoyrideNike ZoomXTerms of SaleTerms of UseNike Privacy PolicyYour Privacy ChoicesCA Supply Chain Act\n"
     ]
    }
   ],
   "source": [
    "print(loader.load().pop().page_content)"
   ]
  },
  {
   "cell_type": "code",
   "execution_count": 74,
   "id": "61ad40a0",
   "metadata": {},
   "outputs": [
    {
     "name": "stdout",
     "output_type": "stream",
     "text": [
      "```json\n",
      "{\n",
      "  \"role\": \"Operations Coach - Nike, Uni Hill\",\n",
      "  \"experience\": \"General Retail experience, Team leadership experience\",\n",
      "  \"skills\": [\n",
      "    \"Passion for the NIKE brand\",\n",
      "    \"Outstanding communication skills\",\n",
      "    \"Solid organisation skills\",\n",
      "    \"Proficiency in MS Office products and Retail business systems\"\n",
      "  ],\n",
      "  \"description\": \"The mission of the Operations Coach is to assist in the implementation of programs, process and initiatives to drive business results and premium consumer service. This role will see you perform non-selling duties that support the store administration and accounting functions.\"\n",
      "}\n",
      "```\n"
     ]
    }
   ],
   "source": [
    "from langchain_core.prompts import PromptTemplate\n",
    "prompt_extract=PromptTemplate.from_template(\n",
    "\"\"\"\n",
    "        ### SCRAPED TEXT FROM WEBSITE:\n",
    "        {page_data}\n",
    "        ### INSTRUCTION:\n",
    "        The scraped text is from the career's page of a website.\n",
    "        Your job is to extract the job postings and return them in JSON format containing the \n",
    "        following keys: `role`, `experience`, `skills` and `description`.\n",
    "        Only return the valid JSON.skill should be a list\n",
    "        ### VALID JSON (NO PREAMBLE):    \n",
    "        \"\"\"\n",
    ")\n",
    "\n",
    "chain_extract=prompt_extract | llm\n",
    "response=chain_extract.invoke(input={'page_data':page_data})\n",
    "print(response.content)"
   ]
  },
  {
   "cell_type": "code",
   "execution_count": 75,
   "id": "b252f0c4",
   "metadata": {},
   "outputs": [
    {
     "name": "stdout",
     "output_type": "stream",
     "text": [
      "{'role': 'Operations Coach - Nike, Uni Hill', 'experience': 'General Retail experience, Team leadership experience', 'skills': ['Passion for the NIKE brand', 'Outstanding communication skills', 'Solid organisation skills', 'Proficiency in MS Office products and Retail business systems'], 'description': 'The mission of the Operations Coach is to assist in the implementation of programs, process and initiatives to drive business results and premium consumer service. This role will see you perform non-selling duties that support the store administration and accounting functions.'}\n"
     ]
    },
    {
     "data": {
      "text/plain": [
       "dict"
      ]
     },
     "execution_count": 75,
     "metadata": {},
     "output_type": "execute_result"
    }
   ],
   "source": [
    "# we want output in json no text so conver\n",
    "from langchain_core.output_parsers import JsonOutputParser\n",
    "jsonParser=JsonOutputParser()\n",
    "jsonresponse=jsonParser.parse(response.content)\n",
    "print(jsonresponse)\n",
    "type(jsonresponse)"
   ]
  },
  {
   "cell_type": "code",
   "execution_count": 44,
   "id": "3cfeb57b",
   "metadata": {},
   "outputs": [
    {
     "data": {
      "text/html": [
       "<div>\n",
       "<style scoped>\n",
       "    .dataframe tbody tr th:only-of-type {\n",
       "        vertical-align: middle;\n",
       "    }\n",
       "\n",
       "    .dataframe tbody tr th {\n",
       "        vertical-align: top;\n",
       "    }\n",
       "\n",
       "    .dataframe thead th {\n",
       "        text-align: right;\n",
       "    }\n",
       "</style>\n",
       "<table border=\"1\" class=\"dataframe\">\n",
       "  <thead>\n",
       "    <tr style=\"text-align: right;\">\n",
       "      <th></th>\n",
       "      <th>Techstack</th>\n",
       "      <th>Links</th>\n",
       "    </tr>\n",
       "  </thead>\n",
       "  <tbody>\n",
       "    <tr>\n",
       "      <th>0</th>\n",
       "      <td>React, Node.js, MongoDB</td>\n",
       "      <td>https://example.com/react-portfolio</td>\n",
       "    </tr>\n",
       "    <tr>\n",
       "      <th>1</th>\n",
       "      <td>Angular,.NET, SQL Server</td>\n",
       "      <td>https://example.com/angular-portfolio</td>\n",
       "    </tr>\n",
       "    <tr>\n",
       "      <th>2</th>\n",
       "      <td>Vue.js, Ruby on Rails, PostgreSQL</td>\n",
       "      <td>https://example.com/vue-portfolio</td>\n",
       "    </tr>\n",
       "    <tr>\n",
       "      <th>3</th>\n",
       "      <td>Python, Django, MySQL</td>\n",
       "      <td>https://example.com/python-portfolio</td>\n",
       "    </tr>\n",
       "    <tr>\n",
       "      <th>4</th>\n",
       "      <td>Java, Spring Boot, Oracle</td>\n",
       "      <td>https://example.com/java-portfolio</td>\n",
       "    </tr>\n",
       "    <tr>\n",
       "      <th>5</th>\n",
       "      <td>Flutter, Firebase, GraphQL</td>\n",
       "      <td>https://example.com/flutter-portfolio</td>\n",
       "    </tr>\n",
       "    <tr>\n",
       "      <th>6</th>\n",
       "      <td>WordPress, PHP, MySQL</td>\n",
       "      <td>https://example.com/wordpress-portfolio</td>\n",
       "    </tr>\n",
       "    <tr>\n",
       "      <th>7</th>\n",
       "      <td>Magento, PHP, MySQL</td>\n",
       "      <td>https://example.com/magento-portfolio</td>\n",
       "    </tr>\n",
       "    <tr>\n",
       "      <th>8</th>\n",
       "      <td>React Native, Node.js, MongoDB</td>\n",
       "      <td>https://example.com/react-native-portfolio</td>\n",
       "    </tr>\n",
       "    <tr>\n",
       "      <th>9</th>\n",
       "      <td>iOS, Swift, Core Data</td>\n",
       "      <td>https://example.com/ios-portfolio</td>\n",
       "    </tr>\n",
       "    <tr>\n",
       "      <th>10</th>\n",
       "      <td>Android, Java, Room Persistence</td>\n",
       "      <td>https://example.com/android-portfolio</td>\n",
       "    </tr>\n",
       "    <tr>\n",
       "      <th>11</th>\n",
       "      <td>Kotlin, Android, Firebase</td>\n",
       "      <td>https://example.com/kotlin-android-portfolio</td>\n",
       "    </tr>\n",
       "    <tr>\n",
       "      <th>12</th>\n",
       "      <td>Android TV, Kotlin, Android NDK</td>\n",
       "      <td>https://example.com/android-tv-portfolio</td>\n",
       "    </tr>\n",
       "    <tr>\n",
       "      <th>13</th>\n",
       "      <td>iOS, Swift, ARKit</td>\n",
       "      <td>https://example.com/ios-ar-portfolio</td>\n",
       "    </tr>\n",
       "    <tr>\n",
       "      <th>14</th>\n",
       "      <td>Cross-platform, Xamarin, Azure</td>\n",
       "      <td>https://example.com/xamarin-portfolio</td>\n",
       "    </tr>\n",
       "    <tr>\n",
       "      <th>15</th>\n",
       "      <td>Backend, Kotlin, Spring Boot</td>\n",
       "      <td>https://example.com/kotlin-backend-portfolio</td>\n",
       "    </tr>\n",
       "    <tr>\n",
       "      <th>16</th>\n",
       "      <td>Frontend, TypeScript, Angular</td>\n",
       "      <td>https://example.com/typescript-frontend-portfolio</td>\n",
       "    </tr>\n",
       "    <tr>\n",
       "      <th>17</th>\n",
       "      <td>Full-stack, JavaScript, Express.js</td>\n",
       "      <td>https://example.com/full-stack-js-portfolio</td>\n",
       "    </tr>\n",
       "    <tr>\n",
       "      <th>18</th>\n",
       "      <td>Machine Learning, Python, TensorFlow</td>\n",
       "      <td>https://example.com/ml-python-portfolio</td>\n",
       "    </tr>\n",
       "    <tr>\n",
       "      <th>19</th>\n",
       "      <td>DevOps, Jenkins, Docker</td>\n",
       "      <td>https://example.com/devops-portfolio</td>\n",
       "    </tr>\n",
       "  </tbody>\n",
       "</table>\n",
       "</div>"
      ],
      "text/plain": [
       "                               Techstack  \\\n",
       "0                React, Node.js, MongoDB   \n",
       "1               Angular,.NET, SQL Server   \n",
       "2      Vue.js, Ruby on Rails, PostgreSQL   \n",
       "3                  Python, Django, MySQL   \n",
       "4              Java, Spring Boot, Oracle   \n",
       "5             Flutter, Firebase, GraphQL   \n",
       "6                  WordPress, PHP, MySQL   \n",
       "7                    Magento, PHP, MySQL   \n",
       "8         React Native, Node.js, MongoDB   \n",
       "9                  iOS, Swift, Core Data   \n",
       "10       Android, Java, Room Persistence   \n",
       "11             Kotlin, Android, Firebase   \n",
       "12       Android TV, Kotlin, Android NDK   \n",
       "13                     iOS, Swift, ARKit   \n",
       "14        Cross-platform, Xamarin, Azure   \n",
       "15          Backend, Kotlin, Spring Boot   \n",
       "16         Frontend, TypeScript, Angular   \n",
       "17    Full-stack, JavaScript, Express.js   \n",
       "18  Machine Learning, Python, TensorFlow   \n",
       "19               DevOps, Jenkins, Docker   \n",
       "\n",
       "                                                Links  \n",
       "0                 https://example.com/react-portfolio  \n",
       "1               https://example.com/angular-portfolio  \n",
       "2                   https://example.com/vue-portfolio  \n",
       "3                https://example.com/python-portfolio  \n",
       "4                  https://example.com/java-portfolio  \n",
       "5               https://example.com/flutter-portfolio  \n",
       "6             https://example.com/wordpress-portfolio  \n",
       "7               https://example.com/magento-portfolio  \n",
       "8          https://example.com/react-native-portfolio  \n",
       "9                   https://example.com/ios-portfolio  \n",
       "10              https://example.com/android-portfolio  \n",
       "11       https://example.com/kotlin-android-portfolio  \n",
       "12           https://example.com/android-tv-portfolio  \n",
       "13               https://example.com/ios-ar-portfolio  \n",
       "14              https://example.com/xamarin-portfolio  \n",
       "15       https://example.com/kotlin-backend-portfolio  \n",
       "16  https://example.com/typescript-frontend-portfolio  \n",
       "17        https://example.com/full-stack-js-portfolio  \n",
       "18            https://example.com/ml-python-portfolio  \n",
       "19               https://example.com/devops-portfolio  "
      ]
     },
     "execution_count": 44,
     "metadata": {},
     "output_type": "execute_result"
    }
   ],
   "source": [
    "import pandas as pd\n",
    "df=pd.read_csv(\"my_portfolio.csv\")\n",
    "df"
   ]
  },
  {
   "cell_type": "code",
   "execution_count": 58,
   "id": "39efa43f",
   "metadata": {},
   "outputs": [],
   "source": [
    "import chromadb\n",
    "import uuid\n",
    "\n",
    "client=chromadb.PersistentClient('vectorstore')\n",
    "\n",
    "collection=client.get_or_create_collection(name=\"portfolio\")\n",
    "\n",
    "if not collection.count():\n",
    "    for _,row in df.iterrows():\n",
    "        collection.add(documents=row[\"Techstack\"],\n",
    "                      metadatas={\"links\":row[\"Links\"]},\n",
    "                        ids=[str(uuid.uuid4())])"
   ]
  },
  {
   "cell_type": "code",
   "execution_count": 77,
   "id": "0b6fe3a7",
   "metadata": {},
   "outputs": [
    {
     "name": "stdout",
     "output_type": "stream",
     "text": [
      "[[{'links': 'https://example.com/java-portfolio'}, {'links': 'https://example.com/vue-portfolio'}], [{'links': 'https://example.com/ml-python-portfolio'}, {'links': 'https://example.com/full-stack-js-portfolio'}], [{'links': 'https://example.com/ml-python-portfolio'}, {'links': 'https://example.com/typescript-frontend-portfolio'}], [{'links': 'https://example.com/angular-portfolio'}, {'links': 'https://example.com/magento-portfolio'}]]\n"
     ]
    }
   ],
   "source": [
    "links=collection.query(query_texts=job['skills'],n_results=2).get('metadatas',[])\n",
    "print(links)"
   ]
  },
  {
   "cell_type": "code",
   "execution_count": 76,
   "id": "819fb93e",
   "metadata": {},
   "outputs": [
    {
     "data": {
      "text/plain": [
       "['Passion for the NIKE brand',\n",
       " 'Outstanding communication skills',\n",
       " 'Solid organisation skills',\n",
       " 'Proficiency in MS Office products and Retail business systems']"
      ]
     },
     "execution_count": 76,
     "metadata": {},
     "output_type": "execute_result"
    }
   ],
   "source": [
    "job=jsonresponse\n",
    "job['skills']"
   ]
  },
  {
   "cell_type": "code",
   "execution_count": 79,
   "id": "e552b973",
   "metadata": {},
   "outputs": [
    {
     "name": "stdout",
     "output_type": "stream",
     "text": [
      "Subject: Streamlining Operations for Nike Uni Hill with AtliQ's Expertise\n",
      "\n",
      "Dear Hiring Manager,\n",
      "\n",
      "I came across the Operations Coach role at Nike Uni Hill and was impressed by the emphasis on driving business results and premium consumer service. As a Business Development Executive at AtliQ, I'd like to introduce you to our company's capabilities in empowering enterprises like Nike to achieve scalability, process optimization, and cost reduction.\n",
      "\n",
      "At AtliQ, we specialize in developing tailored solutions that integrate business processes through automated tools. Our expertise in software consulting and AI can help Nike Uni Hill streamline store administration and accounting functions, aligning with the Operations Coach's non-selling duties.\n",
      "\n",
      "Our portfolio showcases our proficiency in various technologies, including:\n",
      "\n",
      "* Full-stack JavaScript solutions for seamless integration (https://example.com/full-stack-js-portfolio)\n",
      "* Machine Learning with Python for data-driven insights (https://example.com/ml-python-portfolio)\n",
      "* Vue.js for efficient and scalable front-end development (https://example.com/vue-portfolio)\n",
      "\n",
      "These technologies can be leveraged to develop customized solutions for Nike Uni Hill, such as:\n",
      "\n",
      "* Automating inventory management and reporting\n",
      "* Implementing AI-powered chatbots for enhanced customer service\n",
      "* Developing data analytics tools for informed decision-making\n",
      "\n",
      "I'd love to schedule a call to discuss how AtliQ can support Nike Uni Hill in achieving its operational goals. Please let me know if you're interested in exploring our services further.\n",
      "\n",
      "Best regards,\n",
      "\n",
      "Jacob\n",
      "Business Development Executive\n",
      "AtliQ\n"
     ]
    }
   ],
   "source": [
    "prompt_email = PromptTemplate.from_template(\n",
    "        \"\"\"\n",
    "        ### JOB DESCRIPTION:\n",
    "        {job_description}\n",
    "        \n",
    "        ### INSTRUCTION:\n",
    "        You are Jacob, a business development executive at AtliQ. AtliQ is an AI & Software Consulting company dedicated to facilitating\n",
    "        the seamless integration of business processes through automated tools. \n",
    "        Over our experience, we have empowered numerous enterprises with tailored solutions, fostering scalability, \n",
    "        process optimization, cost reduction, and heightened overall efficiency. \n",
    "        Your job is to write a cold email to the client regarding the job mentioned above describing the capability of AtliQ \n",
    "        in fulfilling their needs.\n",
    "        Also add the most relevant ones from the following links to showcase Atliq's portfolio: {link_list}\n",
    "        Remember you are Mohan, BDE at AtliQ. \n",
    "        Do not provide a preamble.\n",
    "        ### EMAIL (NO PREAMBLE):\n",
    "        \n",
    "        \"\"\"\n",
    "        )\n",
    "\n",
    "chain_email=prompt_email | llm\n",
    "res=chain_email.invoke({\"job_description\":str(job),\"link_list\":links})\n",
    "print(res.content)"
   ]
  },
  {
   "cell_type": "code",
   "execution_count": null,
   "id": "2062faf6",
   "metadata": {},
   "outputs": [],
   "source": []
  }
 ],
 "metadata": {
  "kernelspec": {
   "display_name": "Python 3 (ipykernel)",
   "language": "python",
   "name": "python3"
  },
  "language_info": {
   "codemirror_mode": {
    "name": "ipython",
    "version": 3
   },
   "file_extension": ".py",
   "mimetype": "text/x-python",
   "name": "python",
   "nbconvert_exporter": "python",
   "pygments_lexer": "ipython3",
   "version": "3.9.12"
  }
 },
 "nbformat": 4,
 "nbformat_minor": 5
}
